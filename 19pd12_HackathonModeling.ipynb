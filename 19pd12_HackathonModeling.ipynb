{
  "nbformat": 4,
  "nbformat_minor": 0,
  "metadata": {
    "colab": {
      "name": "19pd12-HackathonModeling.ipynb",
      "provenance": []
    },
    "kernelspec": {
      "name": "python3",
      "display_name": "Python 3"
    },
    "language_info": {
      "name": "python"
    }
  },
  "cells": [
    {
      "cell_type": "code",
      "metadata": {
        "colab": {
          "base_uri": "https://localhost:8080/"
        },
        "id": "R9xMoFmBj7Is",
        "outputId": "9ca78e99-85f6-42e9-becb-820298ac3b4a"
      },
      "source": [
        "!pip install mne"
      ],
      "execution_count": null,
      "outputs": [
        {
          "output_type": "stream",
          "name": "stdout",
          "text": [
            "Requirement already satisfied: mne in /usr/local/lib/python3.7/dist-packages (0.24.0)\n",
            "Requirement already satisfied: numpy>=1.15.4 in /usr/local/lib/python3.7/dist-packages (from mne) (1.19.5)\n",
            "Requirement already satisfied: scipy>=1.1.0 in /usr/local/lib/python3.7/dist-packages (from mne) (1.4.1)\n"
          ]
        }
      ]
    },
    {
      "cell_type": "code",
      "metadata": {
        "colab": {
          "base_uri": "https://localhost:8080/"
        },
        "id": "NaGjv7FQ1hlP",
        "outputId": "21d04c46-379b-4d51-8226-71a976fe113b"
      },
      "source": [
        "!pip install eeg_positions"
      ],
      "execution_count": null,
      "outputs": [
        {
          "output_type": "stream",
          "name": "stdout",
          "text": [
            "Requirement already satisfied: eeg_positions in /usr/local/lib/python3.7/dist-packages (2.0.0)\n",
            "Requirement already satisfied: matplotlib>=0.8.0 in /usr/local/lib/python3.7/dist-packages (from eeg_positions) (3.2.2)\n",
            "Requirement already satisfied: numpy>=1.14.1 in /usr/local/lib/python3.7/dist-packages (from eeg_positions) (1.19.5)\n",
            "Requirement already satisfied: pandas>=1.0.0 in /usr/local/lib/python3.7/dist-packages (from eeg_positions) (1.1.5)\n",
            "Requirement already satisfied: cycler>=0.10 in /usr/local/lib/python3.7/dist-packages (from matplotlib>=0.8.0->eeg_positions) (0.11.0)\n",
            "Requirement already satisfied: pyparsing!=2.0.4,!=2.1.2,!=2.1.6,>=2.0.1 in /usr/local/lib/python3.7/dist-packages (from matplotlib>=0.8.0->eeg_positions) (3.0.6)\n",
            "Requirement already satisfied: python-dateutil>=2.1 in /usr/local/lib/python3.7/dist-packages (from matplotlib>=0.8.0->eeg_positions) (2.8.2)\n",
            "Requirement already satisfied: kiwisolver>=1.0.1 in /usr/local/lib/python3.7/dist-packages (from matplotlib>=0.8.0->eeg_positions) (1.3.2)\n",
            "Requirement already satisfied: pytz>=2017.2 in /usr/local/lib/python3.7/dist-packages (from pandas>=1.0.0->eeg_positions) (2018.9)\n",
            "Requirement already satisfied: six>=1.5 in /usr/local/lib/python3.7/dist-packages (from python-dateutil>=2.1->matplotlib>=0.8.0->eeg_positions) (1.15.0)\n"
          ]
        }
      ]
    },
    {
      "cell_type": "markdown",
      "metadata": {
        "id": "XK7zXChnj9KD"
      },
      "source": [
        "# **Importing Libraries and reading the Preprocessed data**"
      ]
    },
    {
      "cell_type": "code",
      "metadata": {
        "id": "w_55crbxGa95"
      },
      "source": [
        "import numpy as np\n",
        "import pandas as pd\n",
        "import seaborn as sns\n",
        "import nltk\n",
        "import re\n",
        "import time\n",
        "from sklearn.feature_extraction.text import CountVectorizer, TfidfTransformer\n",
        "from sklearn.naive_bayes import MultinomialNB\n",
        "import string\n",
        "from nltk.stem import PorterStemmer\n",
        "from sklearn.model_selection import train_test_split\n",
        "import plotly.figure_factory as ff\n",
        "import plotly.express as px\n",
        "from wordcloud import WordCloud, STOPWORDS\n",
        "import matplotlib.pyplot as plt\n",
        "import seaborn as sns\n",
        "from sklearn.metrics import accuracy_score\n",
        "import scipy.io\n",
        "from sklearn.feature_selection import mutual_info_regression\n",
        "from sklearn.decomposition import PCA\n",
        "from sklearn.preprocessing import StandardScaler\n",
        "import matplotlib.pyplot as plt\n",
        "from sklearn.svm import SVC\n",
        "from sklearn.model_selection import GridSearchCV\n",
        "from sklearn import metrics\n",
        "from sklearn.metrics import roc_curve\n",
        "from numpy import mean\n",
        "from numpy import std\n",
        "from sklearn.datasets import make_classification\n",
        "from sklearn.model_selection import cross_val_score\n",
        "from sklearn.model_selection import RepeatedStratifiedKFold\n",
        "from sklearn.pipeline import Pipeline\n",
        "from sklearn.linear_model import LogisticRegression\n",
        "from sklearn.tree import DecisionTreeClassifier\n",
        "import mne\n",
        "from eeg_positions import get_elec_coords"
      ],
      "execution_count": null,
      "outputs": []
    },
    {
      "cell_type": "code",
      "metadata": {
        "id": "pgFAubyLTT5_"
      },
      "source": [
        "df=pd.read_csv(r'/content/Df_preprocessed (1).csv')"
      ],
      "execution_count": null,
      "outputs": []
    },
    {
      "cell_type": "code",
      "metadata": {
        "colab": {
          "base_uri": "https://localhost:8080/",
          "height": 461
        },
        "id": "FcxULo2si8h1",
        "outputId": "3e0ee541-a6c8-4a5d-f62c-587ec7626d44"
      },
      "source": [
        "df"
      ],
      "execution_count": null,
      "outputs": [
        {
          "output_type": "execute_result",
          "data": {
            "text/html": [
              "<div>\n",
              "<style scoped>\n",
              "    .dataframe tbody tr th:only-of-type {\n",
              "        vertical-align: middle;\n",
              "    }\n",
              "\n",
              "    .dataframe tbody tr th {\n",
              "        vertical-align: top;\n",
              "    }\n",
              "\n",
              "    .dataframe thead th {\n",
              "        text-align: right;\n",
              "    }\n",
              "</style>\n",
              "<table border=\"1\" class=\"dataframe\">\n",
              "  <thead>\n",
              "    <tr style=\"text-align: right;\">\n",
              "      <th></th>\n",
              "      <th>Unnamed: 0</th>\n",
              "      <th>C1</th>\n",
              "      <th>C2</th>\n",
              "      <th>C3</th>\n",
              "      <th>C4</th>\n",
              "      <th>C5</th>\n",
              "      <th>C6</th>\n",
              "      <th>C7</th>\n",
              "      <th>C8</th>\n",
              "      <th>C9</th>\n",
              "      <th>C10</th>\n",
              "      <th>C11</th>\n",
              "      <th>C12</th>\n",
              "      <th>C13</th>\n",
              "      <th>C14</th>\n",
              "      <th>C15</th>\n",
              "      <th>C16</th>\n",
              "      <th>C17</th>\n",
              "      <th>C18</th>\n",
              "      <th>C19</th>\n",
              "      <th>label</th>\n",
              "    </tr>\n",
              "  </thead>\n",
              "  <tbody>\n",
              "    <tr>\n",
              "      <th>0</th>\n",
              "      <td>0</td>\n",
              "      <td>0.335038</td>\n",
              "      <td>0.350803</td>\n",
              "      <td>0.386383</td>\n",
              "      <td>0.382694</td>\n",
              "      <td>0.388903</td>\n",
              "      <td>0.384259</td>\n",
              "      <td>0.324582</td>\n",
              "      <td>0.371772</td>\n",
              "      <td>0.178842</td>\n",
              "      <td>0.235855</td>\n",
              "      <td>0.287295</td>\n",
              "      <td>0.297958</td>\n",
              "      <td>0.312892</td>\n",
              "      <td>0.258505</td>\n",
              "      <td>0.310902</td>\n",
              "      <td>0.313029</td>\n",
              "      <td>0.306131</td>\n",
              "      <td>0.313667</td>\n",
              "      <td>0.310917</td>\n",
              "      <td>0</td>\n",
              "    </tr>\n",
              "    <tr>\n",
              "      <th>1</th>\n",
              "      <td>1</td>\n",
              "      <td>0.387232</td>\n",
              "      <td>0.274562</td>\n",
              "      <td>0.494701</td>\n",
              "      <td>0.290063</td>\n",
              "      <td>0.506105</td>\n",
              "      <td>0.245683</td>\n",
              "      <td>0.474407</td>\n",
              "      <td>0.287532</td>\n",
              "      <td>0.462121</td>\n",
              "      <td>0.228246</td>\n",
              "      <td>0.428885</td>\n",
              "      <td>0.250042</td>\n",
              "      <td>0.417819</td>\n",
              "      <td>0.243313</td>\n",
              "      <td>0.394529</td>\n",
              "      <td>0.211636</td>\n",
              "      <td>0.484410</td>\n",
              "      <td>0.253041</td>\n",
              "      <td>0.430822</td>\n",
              "      <td>0</td>\n",
              "    </tr>\n",
              "    <tr>\n",
              "      <th>2</th>\n",
              "      <td>2</td>\n",
              "      <td>0.213529</td>\n",
              "      <td>0.226200</td>\n",
              "      <td>0.233447</td>\n",
              "      <td>0.239186</td>\n",
              "      <td>0.206145</td>\n",
              "      <td>0.269256</td>\n",
              "      <td>0.207142</td>\n",
              "      <td>0.280646</td>\n",
              "      <td>0.200542</td>\n",
              "      <td>0.270002</td>\n",
              "      <td>0.184769</td>\n",
              "      <td>0.167180</td>\n",
              "      <td>0.183914</td>\n",
              "      <td>0.194079</td>\n",
              "      <td>0.160464</td>\n",
              "      <td>0.183387</td>\n",
              "      <td>0.229746</td>\n",
              "      <td>0.257888</td>\n",
              "      <td>0.227645</td>\n",
              "      <td>0</td>\n",
              "    </tr>\n",
              "    <tr>\n",
              "      <th>3</th>\n",
              "      <td>3</td>\n",
              "      <td>0.292671</td>\n",
              "      <td>0.241536</td>\n",
              "      <td>0.493374</td>\n",
              "      <td>0.502810</td>\n",
              "      <td>0.516281</td>\n",
              "      <td>0.521020</td>\n",
              "      <td>0.417825</td>\n",
              "      <td>0.456831</td>\n",
              "      <td>0.282943</td>\n",
              "      <td>0.267064</td>\n",
              "      <td>0.245093</td>\n",
              "      <td>0.258088</td>\n",
              "      <td>0.337609</td>\n",
              "      <td>0.403353</td>\n",
              "      <td>0.297118</td>\n",
              "      <td>0.377677</td>\n",
              "      <td>0.437617</td>\n",
              "      <td>0.342920</td>\n",
              "      <td>0.378390</td>\n",
              "      <td>0</td>\n",
              "    </tr>\n",
              "    <tr>\n",
              "      <th>4</th>\n",
              "      <td>4</td>\n",
              "      <td>0.346029</td>\n",
              "      <td>0.354078</td>\n",
              "      <td>0.360827</td>\n",
              "      <td>0.449844</td>\n",
              "      <td>0.383315</td>\n",
              "      <td>0.354668</td>\n",
              "      <td>0.371950</td>\n",
              "      <td>0.437448</td>\n",
              "      <td>0.215580</td>\n",
              "      <td>0.384313</td>\n",
              "      <td>0.329467</td>\n",
              "      <td>0.401644</td>\n",
              "      <td>0.274604</td>\n",
              "      <td>0.388668</td>\n",
              "      <td>0.307233</td>\n",
              "      <td>0.399812</td>\n",
              "      <td>0.309470</td>\n",
              "      <td>0.376372</td>\n",
              "      <td>0.309475</td>\n",
              "      <td>0</td>\n",
              "    </tr>\n",
              "    <tr>\n",
              "      <th>...</th>\n",
              "      <td>...</td>\n",
              "      <td>...</td>\n",
              "      <td>...</td>\n",
              "      <td>...</td>\n",
              "      <td>...</td>\n",
              "      <td>...</td>\n",
              "      <td>...</td>\n",
              "      <td>...</td>\n",
              "      <td>...</td>\n",
              "      <td>...</td>\n",
              "      <td>...</td>\n",
              "      <td>...</td>\n",
              "      <td>...</td>\n",
              "      <td>...</td>\n",
              "      <td>...</td>\n",
              "      <td>...</td>\n",
              "      <td>...</td>\n",
              "      <td>...</td>\n",
              "      <td>...</td>\n",
              "      <td>...</td>\n",
              "      <td>...</td>\n",
              "    </tr>\n",
              "    <tr>\n",
              "      <th>116</th>\n",
              "      <td>116</td>\n",
              "      <td>0.309895</td>\n",
              "      <td>0.312626</td>\n",
              "      <td>0.230568</td>\n",
              "      <td>0.349177</td>\n",
              "      <td>0.328292</td>\n",
              "      <td>0.318996</td>\n",
              "      <td>0.358948</td>\n",
              "      <td>0.341061</td>\n",
              "      <td>0.288601</td>\n",
              "      <td>0.306197</td>\n",
              "      <td>0.287438</td>\n",
              "      <td>0.318433</td>\n",
              "      <td>0.249575</td>\n",
              "      <td>0.299025</td>\n",
              "      <td>0.247730</td>\n",
              "      <td>0.228662</td>\n",
              "      <td>0.281399</td>\n",
              "      <td>0.241214</td>\n",
              "      <td>0.252185</td>\n",
              "      <td>1</td>\n",
              "    </tr>\n",
              "    <tr>\n",
              "      <th>117</th>\n",
              "      <td>117</td>\n",
              "      <td>0.318146</td>\n",
              "      <td>0.284052</td>\n",
              "      <td>0.255549</td>\n",
              "      <td>0.289795</td>\n",
              "      <td>0.207993</td>\n",
              "      <td>0.242576</td>\n",
              "      <td>0.213281</td>\n",
              "      <td>0.226987</td>\n",
              "      <td>0.175099</td>\n",
              "      <td>0.215026</td>\n",
              "      <td>0.283096</td>\n",
              "      <td>0.203045</td>\n",
              "      <td>0.249787</td>\n",
              "      <td>0.182652</td>\n",
              "      <td>0.159298</td>\n",
              "      <td>0.144923</td>\n",
              "      <td>0.278210</td>\n",
              "      <td>0.248315</td>\n",
              "      <td>0.199927</td>\n",
              "      <td>1</td>\n",
              "    </tr>\n",
              "    <tr>\n",
              "      <th>118</th>\n",
              "      <td>118</td>\n",
              "      <td>0.301197</td>\n",
              "      <td>0.270250</td>\n",
              "      <td>0.310468</td>\n",
              "      <td>0.298029</td>\n",
              "      <td>0.292355</td>\n",
              "      <td>0.261588</td>\n",
              "      <td>0.261356</td>\n",
              "      <td>0.251037</td>\n",
              "      <td>0.188390</td>\n",
              "      <td>0.209553</td>\n",
              "      <td>0.248784</td>\n",
              "      <td>0.162316</td>\n",
              "      <td>0.250101</td>\n",
              "      <td>0.221374</td>\n",
              "      <td>0.189878</td>\n",
              "      <td>0.209652</td>\n",
              "      <td>0.288664</td>\n",
              "      <td>0.244984</td>\n",
              "      <td>0.210675</td>\n",
              "      <td>1</td>\n",
              "    </tr>\n",
              "    <tr>\n",
              "      <th>119</th>\n",
              "      <td>119</td>\n",
              "      <td>0.413807</td>\n",
              "      <td>0.306365</td>\n",
              "      <td>0.372274</td>\n",
              "      <td>0.266940</td>\n",
              "      <td>0.384445</td>\n",
              "      <td>0.296911</td>\n",
              "      <td>0.406224</td>\n",
              "      <td>0.248007</td>\n",
              "      <td>0.261596</td>\n",
              "      <td>0.226670</td>\n",
              "      <td>0.382783</td>\n",
              "      <td>0.227374</td>\n",
              "      <td>0.411393</td>\n",
              "      <td>0.270862</td>\n",
              "      <td>0.400743</td>\n",
              "      <td>0.261594</td>\n",
              "      <td>0.388536</td>\n",
              "      <td>0.271187</td>\n",
              "      <td>0.364075</td>\n",
              "      <td>1</td>\n",
              "    </tr>\n",
              "    <tr>\n",
              "      <th>120</th>\n",
              "      <td>120</td>\n",
              "      <td>0.504606</td>\n",
              "      <td>0.317867</td>\n",
              "      <td>0.540027</td>\n",
              "      <td>0.314266</td>\n",
              "      <td>0.519227</td>\n",
              "      <td>0.306461</td>\n",
              "      <td>0.507978</td>\n",
              "      <td>0.259257</td>\n",
              "      <td>0.395867</td>\n",
              "      <td>0.213556</td>\n",
              "      <td>0.484738</td>\n",
              "      <td>0.313361</td>\n",
              "      <td>0.345081</td>\n",
              "      <td>0.329135</td>\n",
              "      <td>0.373015</td>\n",
              "      <td>0.237105</td>\n",
              "      <td>0.520083</td>\n",
              "      <td>0.225885</td>\n",
              "      <td>0.299112</td>\n",
              "      <td>1</td>\n",
              "    </tr>\n",
              "  </tbody>\n",
              "</table>\n",
              "<p>121 rows × 21 columns</p>\n",
              "</div>"
            ],
            "text/plain": [
              "     Unnamed: 0        C1        C2  ...       C18       C19  label\n",
              "0             0  0.335038  0.350803  ...  0.313667  0.310917      0\n",
              "1             1  0.387232  0.274562  ...  0.253041  0.430822      0\n",
              "2             2  0.213529  0.226200  ...  0.257888  0.227645      0\n",
              "3             3  0.292671  0.241536  ...  0.342920  0.378390      0\n",
              "4             4  0.346029  0.354078  ...  0.376372  0.309475      0\n",
              "..          ...       ...       ...  ...       ...       ...    ...\n",
              "116         116  0.309895  0.312626  ...  0.241214  0.252185      1\n",
              "117         117  0.318146  0.284052  ...  0.248315  0.199927      1\n",
              "118         118  0.301197  0.270250  ...  0.244984  0.210675      1\n",
              "119         119  0.413807  0.306365  ...  0.271187  0.364075      1\n",
              "120         120  0.504606  0.317867  ...  0.225885  0.299112      1\n",
              "\n",
              "[121 rows x 21 columns]"
            ]
          },
          "metadata": {},
          "execution_count": 5
        }
      ]
    },
    {
      "cell_type": "code",
      "metadata": {
        "id": "VngQY_484FR8"
      },
      "source": [
        "X = df.iloc[:,1:20].values\n",
        "y = df.iloc[:, 20].values"
      ],
      "execution_count": null,
      "outputs": []
    },
    {
      "cell_type": "markdown",
      "metadata": {
        "id": "iNXO8bR4lU_Y"
      },
      "source": [
        "# **Defining accuracy measure functions**"
      ]
    },
    {
      "cell_type": "code",
      "metadata": {
        "id": "JDP_-SUH9c3K"
      },
      "source": [
        "def confusion(Y,Y_hat):\n",
        "    p_index = np.where(Y==1)\n",
        "    n_index = np.where(Y==0)\n",
        "    tp = np.count_nonzero(Y[p_index]==Y_hat[p_index])\n",
        "    fp = np.count_nonzero(Y[n_index]!=Y_hat[n_index])\n",
        "    fn = np.count_nonzero(Y[p_index]!=Y_hat[p_index])\n",
        "    tn = np.count_nonzero(Y[n_index]==Y_hat[n_index])\n",
        "    return {'tp':tp,'fp':fp,'fn':fn,'tn':tn}\n",
        "\n",
        "def confusion_matrix(Y,Y_hat):\n",
        "    conf = confusion(Y,Y_hat)\n",
        "    return np.array([[conf['tn'],conf['fp']],[conf['fn'],conf['tp']]])\n",
        "\n",
        "\n",
        "def accuracy_score(y_true, y_pred):\n",
        "    tptn = 0\n",
        "    for i in range(len(y_true)):\n",
        "        if y_true[i] == y_pred[i]:\n",
        "          tptn += 1\n",
        "    return tptn/len(y_true)\n",
        "\n",
        "def precision_score(y_true,y_pred):\n",
        "  tp = 0\n",
        "  tpfp = 0\n",
        "  for i in range(len(y_true)):\n",
        "    if y_pred[i] == 1:\n",
        "        tpfp += 1\n",
        "        if y_true[i] == 1:\n",
        "            tp +=1\n",
        "  return tp / tpfp\n",
        "\n",
        "def recall_score(y_true,y_pred):\n",
        "  tp = 0\n",
        "  tpfn = 0\n",
        "  for i in range(len(y_true)):\n",
        "    if y_true[i] == 1:\n",
        "        tpfn += 1\n",
        "        if y_pred[i] == 1:\n",
        "            tp += 1\n",
        "  return tp / tpfn\n",
        "\n",
        "def f1_score(y_true,y_pred):\n",
        "  p = precision_score(y_true,y_pred)\n",
        "  r = recall_score(y_true,y_pred)\n",
        "  return ((2 * p * r) / (p + r))"
      ],
      "execution_count": null,
      "outputs": []
    },
    {
      "cell_type": "markdown",
      "metadata": {
        "id": "SwjIyLsRkOSK"
      },
      "source": [
        "# **PCA**"
      ]
    },
    {
      "cell_type": "code",
      "metadata": {
        "id": "4nqMIsOq4m6C"
      },
      "source": [
        "principal=PCA(n_components=2)\n",
        "principal.fit(X)\n",
        "X_pca=principal.transform(X)"
      ],
      "execution_count": null,
      "outputs": []
    },
    {
      "cell_type": "code",
      "metadata": {
        "colab": {
          "base_uri": "https://localhost:8080/",
          "height": 623
        },
        "id": "NtFD0BAp4Pq0",
        "outputId": "ac5beece-0e6c-4c92-a07c-f7c8da9a06bd"
      },
      "source": [
        "plt.figure(figsize=(10,10))\n",
        "plt.scatter(X_pca[:,0],X_pca[:,1],c=y,cmap='plasma')\n",
        "plt.xlabel('pc1')\n",
        "plt.ylabel('pc2')"
      ],
      "execution_count": null,
      "outputs": [
        {
          "output_type": "execute_result",
          "data": {
            "text/plain": [
              "Text(0, 0.5, 'pc2')"
            ]
          },
          "metadata": {},
          "execution_count": 9
        },
        {
          "output_type": "display_data",
          "data": {
            "image/png": "[encoded data removed]",
            "text/plain": [
              "<Figure size 720x720 with 1 Axes>"
            ]
          },
          "metadata": {
            "needs_background": "light"
          }
        }
      ]
    },
    {
      "cell_type": "markdown",
      "metadata": {
        "id": "VrgxFTIz49vs"
      },
      "source": [
        "We can see that the data points are not linearly seperable"
      ]
    },
    {
      "cell_type": "code",
      "metadata": {
        "colab": {
          "base_uri": "https://localhost:8080/",
          "height": 296
        },
        "id": "ITYKLiyK3vJw",
        "outputId": "d5009791-a8a9-4bd8-ab2d-63d0cf141ea5"
      },
      "source": [
        "pca = PCA().fit(X)\n",
        "plt.plot(np.cumsum(pca.explained_variance_ratio_))\n",
        "plt.xlabel('number of components')\n",
        "plt.ylabel('cumulative explained variance')"
      ],
      "execution_count": null,
      "outputs": [
        {
          "output_type": "execute_result",
          "data": {
            "text/plain": [
              "Text(0, 0.5, 'cumulative explained variance')"
            ]
          },
          "metadata": {},
          "execution_count": 10
        },
        {
          "output_type": "display_data",
          "data": {
            "image/png": "[encoded data removed]",
            "text/plain": [
              "<Figure size 432x288 with 1 Axes>"
            ]
          },
          "metadata": {
            "needs_background": "light"
          }
        }
      ]
    },
    {
      "cell_type": "markdown",
      "metadata": {
        "id": "jom1ZRuVkX_w"
      },
      "source": [
        "# **PCA followed by logistic regression**"
      ]
    },
    {
      "cell_type": "code",
      "metadata": {
        "colab": {
          "base_uri": "https://localhost:8080/"
        },
        "id": "glwKbzPHsGIS",
        "outputId": "56cf7555-c0a3-4317-fbe5-09f6491635c3"
      },
      "source": [
        "# define the pipeline\n",
        "steps = [('pca', PCA(n_components=17)), ('m', LogisticRegression())]\n",
        "model = Pipeline(steps=steps)\n",
        "# evaluate model\n",
        "cv = RepeatedStratifiedKFold(n_splits=10, n_repeats=3, random_state=1)\n",
        "n_scores = cross_val_score(model, X, y, scoring='accuracy', cv=cv, n_jobs=-1, error_score='raise')\n",
        "# report performance\n",
        "print('Accuracy: %.3f (%.3f)' % (mean(n_scores), std(n_scores)))"
      ],
      "execution_count": null,
      "outputs": [
        {
          "output_type": "stream",
          "name": "stdout",
          "text": [
            "Accuracy: 0.661 (0.165)\n"
          ]
        }
      ]
    },
    {
      "cell_type": "code",
      "metadata": {
        "id": "yioA4lKyo4Zr"
      },
      "source": [
        "from sklearn.model_selection import train_test_split\n",
        "x_train, x_test, y_train, y_test = train_test_split(X, y, test_size=0.25)"
      ],
      "execution_count": null,
      "outputs": []
    },
    {
      "cell_type": "code",
      "metadata": {
        "id": "Uf3dsm-Apx6j"
      },
      "source": [
        "logisticRegr = LogisticRegression()\n",
        "logisticRegr.fit(x_train, y_train)\n",
        "y_pred=logisticRegr.predict(x_test)"
      ],
      "execution_count": null,
      "outputs": []
    },
    {
      "cell_type": "markdown",
      "metadata": {
        "id": "vuky3zVL8ojI"
      },
      "source": [
        "***Accuracy Measures***"
      ]
    },
    {
      "cell_type": "code",
      "metadata": {
        "colab": {
          "base_uri": "https://localhost:8080/"
        },
        "id": "gC1nm7oKrlLv",
        "outputId": "e86e8c19-c203-4bf1-b402-27f48a8b4df9"
      },
      "source": [
        "print(\"Confusion Matrix:\")\n",
        "print(confusion_matrix(y_pred,y_test))"
      ],
      "execution_count": null,
      "outputs": [
        {
          "output_type": "stream",
          "name": "stdout",
          "text": [
            "Confusion Matrix:\n",
            "[[14  6]\n",
            " [ 2  9]]\n"
          ]
        }
      ]
    },
    {
      "cell_type": "code",
      "metadata": {
        "colab": {
          "base_uri": "https://localhost:8080/"
        },
        "id": "l_3eM_GmqUjS",
        "outputId": "015eeae0-484d-4fa1-e05b-268ca2dce03b"
      },
      "source": [
        "print(\"Accuracy =\",accuracy_score(y_test,y_pred))\n",
        "print(\"Precision=\",precision_score(y_test,y_pred))\n",
        "print(\"f1_score=\",f1_score(y_test,y_pred))"
      ],
      "execution_count": null,
      "outputs": [
        {
          "output_type": "stream",
          "name": "stdout",
          "text": [
            "Accuracy = 0.7419354838709677\n",
            "Precision= 0.8181818181818182\n",
            "f1_score= 0.6923076923076923\n"
          ]
        }
      ]
    },
    {
      "cell_type": "code",
      "metadata": {
        "colab": {
          "base_uri": "https://localhost:8080/",
          "height": 386
        },
        "id": "Zr-YVH1Yrd-x",
        "outputId": "40ef0663-5227-4728-a09c-d1cebdb2bdd4"
      },
      "source": [
        "metrics.plot_roc_curve(logisticRegr, x_test, y_test) "
      ],
      "execution_count": null,
      "outputs": [
        {
          "output_type": "stream",
          "name": "stderr",
          "text": [
            "/usr/local/lib/python3.7/dist-packages/sklearn/utils/deprecation.py:87: FutureWarning:\n",
            "\n",
            "Function plot_roc_curve is deprecated; Function `plot_roc_curve` is deprecated in 1.0 and will be removed in 1.2. Use one of the class methods: RocCurveDisplay.from_predictions or RocCurveDisplay.from_estimator.\n",
            "\n"
          ]
        },
        {
          "output_type": "execute_result",
          "data": {
            "text/plain": [
              "<sklearn.metrics._plot.roc_curve.RocCurveDisplay at 0x7f2f0ea2f5d0>"
            ]
          },
          "metadata": {},
          "execution_count": 16
        },
        {
          "output_type": "display_data",
          "data": {
            "image/png": "[encoded data removed]",
            "text/plain": [
              "<Figure size 432x288 with 1 Axes>"
            ]
          },
          "metadata": {
            "needs_background": "light"
          }
        }
      ]
    },
    {
      "cell_type": "markdown",
      "metadata": {
        "id": "yWBhrovu5LS5"
      },
      "source": [
        "Since it's not linearly seperable the accuracy is low so, logistic regression is not suitable"
      ]
    },
    {
      "cell_type": "markdown",
      "metadata": {
        "id": "TWfk17vZk2aK"
      },
      "source": [
        "# **PCA followed by SVM for classification**"
      ]
    },
    {
      "cell_type": "code",
      "metadata": {
        "id": "FSirnF3i742L"
      },
      "source": [
        "principal=PCA(n_components=17)\n",
        "principal.fit(X)\n",
        "X_pca=principal.transform(X)"
      ],
      "execution_count": null,
      "outputs": []
    },
    {
      "cell_type": "code",
      "metadata": {
        "colab": {
          "base_uri": "https://localhost:8080/"
        },
        "id": "JnWcxknD3v2P",
        "outputId": "2c54d792-7f88-48b5-9e59-fe38e9789972"
      },
      "source": [
        "svc = SVC()\n",
        "kernel = ['linear', 'poly', 'rbf', 'sigmoid']\n",
        "C = np.logspace(0,5,20)\n",
        "print(C)\n",
        "hyperparameters = dict(C=C, kernel=kernel)\n",
        "clf = GridSearchCV(svc,hyperparameters,cv=5)"
      ],
      "execution_count": null,
      "outputs": [
        {
          "output_type": "stream",
          "name": "stdout",
          "text": [
            "[1.00000000e+00 1.83298071e+00 3.35981829e+00 6.15848211e+00\n",
            " 1.12883789e+01 2.06913808e+01 3.79269019e+01 6.95192796e+01\n",
            " 1.27427499e+02 2.33572147e+02 4.28133240e+02 7.84759970e+02\n",
            " 1.43844989e+03 2.63665090e+03 4.83293024e+03 8.85866790e+03\n",
            " 1.62377674e+04 2.97635144e+04 5.45559478e+04 1.00000000e+05]\n"
          ]
        }
      ]
    },
    {
      "cell_type": "code",
      "metadata": {
        "id": "3LTzYc2-5eEv"
      },
      "source": [
        "best_model= clf.fit(X_pca,y)"
      ],
      "execution_count": null,
      "outputs": []
    },
    {
      "cell_type": "code",
      "metadata": {
        "colab": {
          "base_uri": "https://localhost:8080/"
        },
        "id": "83EjRnxQ5g9z",
        "outputId": "0206a28b-4c55-4353-e322-3be51855a5cb"
      },
      "source": [
        "best_c = best_model.best_estimator_.get_params()['C']\n",
        "best_kernel = best_model.best_estimator_.get_params()['kernel']\n",
        "print('Best C', best_c)\n",
        "print('Best Kernel', best_kernel)"
      ],
      "execution_count": null,
      "outputs": [
        {
          "output_type": "stream",
          "name": "stdout",
          "text": [
            "Best C 37.926901907322495\n",
            "Best Kernel rbf\n"
          ]
        }
      ]
    },
    {
      "cell_type": "code",
      "metadata": {
        "id": "pSZKttTY6Ocd"
      },
      "source": [
        "from sklearn.model_selection import KFold,cross_val_score"
      ],
      "execution_count": null,
      "outputs": []
    },
    {
      "cell_type": "code",
      "metadata": {
        "colab": {
          "base_uri": "https://localhost:8080/"
        },
        "id": "EQgXA_2G6umU",
        "outputId": "cce0b0d6-2c6a-4d13-da66-206835009a1f"
      },
      "source": [
        "kfold = KFold(n_splits=5)\n",
        "model = SVC(C=best_c,kernel=best_kernel)\n",
        "results = cross_val_score(model,X_pca,y,cv=kfold)\n",
        "print(\"Accuracy\",results.mean())"
      ],
      "execution_count": null,
      "outputs": [
        {
          "output_type": "stream",
          "name": "stdout",
          "text": [
            "Accuracy 0.5966666666666667\n"
          ]
        }
      ]
    },
    {
      "cell_type": "code",
      "metadata": {
        "id": "iruQbll0tK7n"
      },
      "source": [
        "svclassifier = SVC(kernel=best_kernel)"
      ],
      "execution_count": null,
      "outputs": []
    },
    {
      "cell_type": "code",
      "metadata": {
        "id": "3XjeSSTms_x3"
      },
      "source": [
        "X_train,X_test,y_train,y_test = train_test_split(X,y,shuffle=True)\n",
        "svclassifier.fit(X_train, y_train)\n",
        "y_pred = svclassifier.predict(X_test)"
      ],
      "execution_count": null,
      "outputs": []
    },
    {
      "cell_type": "markdown",
      "metadata": {
        "id": "jmOMtTml8b-k"
      },
      "source": [
        "***Accuracy Measures***"
      ]
    },
    {
      "cell_type": "code",
      "metadata": {
        "colab": {
          "base_uri": "https://localhost:8080/"
        },
        "id": "SuQ4oYUkuXH5",
        "outputId": "e220984e-f325-4cd7-bf77-461c287f4f5d"
      },
      "source": [
        "print(\"Confusion Matrix:\")\n",
        "print(confusion_matrix(y_pred,y_test))"
      ],
      "execution_count": null,
      "outputs": [
        {
          "output_type": "stream",
          "name": "stdout",
          "text": [
            "Confusion Matrix:\n",
            "[[12  8]\n",
            " [ 2  9]]\n"
          ]
        }
      ]
    },
    {
      "cell_type": "code",
      "metadata": {
        "colab": {
          "base_uri": "https://localhost:8080/"
        },
        "id": "I0wiFFmusjPP",
        "outputId": "cd428273-58a7-40ae-fbb9-318aa5c25f62"
      },
      "source": [
        "print(\"Accuracy=\",accuracy_score(y_test,y_pred))\n",
        "print(\"Precision=\",precision_score(y_test,y_pred))\n",
        "print(\"f1_score=\",f1_score(y_test,y_pred))"
      ],
      "execution_count": null,
      "outputs": [
        {
          "output_type": "stream",
          "name": "stdout",
          "text": [
            "Accuracy= 0.6774193548387096\n",
            "Precision= 0.8181818181818182\n",
            "f1_score= 0.6428571428571428\n"
          ]
        }
      ]
    },
    {
      "cell_type": "code",
      "metadata": {
        "colab": {
          "base_uri": "https://localhost:8080/",
          "height": 386
        },
        "id": "NJ7GAcvW5j_3",
        "outputId": "0c2c9a67-0a54-4a0e-8d8b-ae1174ea4663"
      },
      "source": [
        "metrics.plot_roc_curve(svclassifier, X_test, y_test) "
      ],
      "execution_count": null,
      "outputs": [
        {
          "output_type": "stream",
          "name": "stderr",
          "text": [
            "/usr/local/lib/python3.7/dist-packages/sklearn/utils/deprecation.py:87: FutureWarning:\n",
            "\n",
            "Function plot_roc_curve is deprecated; Function `plot_roc_curve` is deprecated in 1.0 and will be removed in 1.2. Use one of the class methods: RocCurveDisplay.from_predictions or RocCurveDisplay.from_estimator.\n",
            "\n"
          ]
        },
        {
          "output_type": "execute_result",
          "data": {
            "text/plain": [
              "<sklearn.metrics._plot.roc_curve.RocCurveDisplay at 0x7f2f0bb57710>"
            ]
          },
          "metadata": {},
          "execution_count": 27
        },
        {
          "output_type": "display_data",
          "data": {
            "image/png": "[encoded data removed]",
            "text/plain": [
              "<Figure size 432x288 with 1 Axes>"
            ]
          },
          "metadata": {
            "needs_background": "light"
          }
        }
      ]
    },
    {
      "cell_type": "markdown",
      "metadata": {
        "id": "QsoCF9NC8IA2"
      },
      "source": [
        "No much difference in the accuracy when compared to logistic regression"
      ]
    },
    {
      "cell_type": "markdown",
      "metadata": {
        "id": "etHe7pYqueZI"
      },
      "source": [
        "# **PCA followed by Decision Tree**"
      ]
    },
    {
      "cell_type": "code",
      "metadata": {
        "id": "Sqw6NXh_61gb"
      },
      "source": [
        "dtc = DecisionTreeClassifier(criterion='entropy')"
      ],
      "execution_count": null,
      "outputs": []
    },
    {
      "cell_type": "code",
      "metadata": {
        "colab": {
          "base_uri": "https://localhost:8080/"
        },
        "id": "IJDV1K5j9MqF",
        "outputId": "50257d31-0136-4899-b56f-4e81e54dfaad"
      },
      "source": [
        "X_train_dt,X_test_dt,y_train_dt,y_test_dt = train_test_split(X_pca,y,shuffle=True)\n",
        "dtc.fit(X_train_dt,y_train_dt)"
      ],
      "execution_count": null,
      "outputs": [
        {
          "output_type": "execute_result",
          "data": {
            "text/plain": [
              "DecisionTreeClassifier(criterion='entropy')"
            ]
          },
          "metadata": {},
          "execution_count": 29
        }
      ]
    },
    {
      "cell_type": "code",
      "metadata": {
        "id": "JpMjH7RX9PVy"
      },
      "source": [
        "y_pred_dt = dtc.predict(X_test_dt)"
      ],
      "execution_count": null,
      "outputs": []
    },
    {
      "cell_type": "markdown",
      "metadata": {
        "id": "j92a9Ogl8sT8"
      },
      "source": [
        "***Accuracy Measures***"
      ]
    },
    {
      "cell_type": "code",
      "metadata": {
        "colab": {
          "base_uri": "https://localhost:8080/"
        },
        "id": "X7tYyqqp9PSP",
        "outputId": "768aebb5-03a5-4a44-e3e6-630691f481d5"
      },
      "source": [
        "y_pred_dt = np.array(y_pred_dt)\n",
        "y_test_dt = np.array(y_test_dt)\n",
        "confusion_matrix(y_pred_dt,y_test_dt)"
      ],
      "execution_count": null,
      "outputs": [
        {
          "output_type": "execute_result",
          "data": {
            "text/plain": [
              "array([[10,  1],\n",
              "       [ 8, 12]])"
            ]
          },
          "metadata": {},
          "execution_count": 31
        }
      ]
    },
    {
      "cell_type": "code",
      "metadata": {
        "colab": {
          "base_uri": "https://localhost:8080/"
        },
        "id": "1qAnM-h49PQQ",
        "outputId": "da5acb63-f9e1-42df-9645-ab3409b87c47"
      },
      "source": [
        "print(\"Accuracy =\",accuracy_score(y_test_dt,y_pred_dt))\n",
        "print(\"Precision=\",precision_score(y_test_dt,y_pred_dt))\n",
        "print(\"f1_score=\",f1_score(y_test_dt,y_pred_dt))"
      ],
      "execution_count": null,
      "outputs": [
        {
          "output_type": "stream",
          "name": "stdout",
          "text": [
            "Accuracy = 0.7096774193548387\n",
            "Precision= 0.6\n",
            "f1_score= 0.7272727272727274\n"
          ]
        }
      ]
    },
    {
      "cell_type": "code",
      "metadata": {
        "colab": {
          "base_uri": "https://localhost:8080/",
          "height": 386
        },
        "id": "kUeMN-Hx5vSQ",
        "outputId": "bc696985-69ac-4350-f67f-3b861777dd29"
      },
      "source": [
        "metrics.plot_roc_curve(dtc, X_test_dt, y_test_dt) "
      ],
      "execution_count": null,
      "outputs": [
        {
          "output_type": "stream",
          "name": "stderr",
          "text": [
            "/usr/local/lib/python3.7/dist-packages/sklearn/utils/deprecation.py:87: FutureWarning:\n",
            "\n",
            "Function plot_roc_curve is deprecated; Function `plot_roc_curve` is deprecated in 1.0 and will be removed in 1.2. Use one of the class methods: RocCurveDisplay.from_predictions or RocCurveDisplay.from_estimator.\n",
            "\n"
          ]
        },
        {
          "output_type": "execute_result",
          "data": {
            "text/plain": [
              "<sklearn.metrics._plot.roc_curve.RocCurveDisplay at 0x7f2f0bb46110>"
            ]
          },
          "metadata": {},
          "execution_count": 33
        },
        {
          "output_type": "display_data",
          "data": {
            "image/png": "[encoded data removed]",
            "text/plain": [
              "<Figure size 432x288 with 1 Axes>"
            ]
          },
          "metadata": {
            "needs_background": "light"
          }
        }
      ]
    },
    {
      "cell_type": "markdown",
      "metadata": {
        "id": "9kxHLaswvnAa"
      },
      "source": [
        "# **PCA followed by KNN**"
      ]
    },
    {
      "cell_type": "code",
      "metadata": {
        "id": "UFUaHkEkxphK"
      },
      "source": [
        "xtrain, xtest, ytrain, ytest = train_test_split(X, y, test_size = 0.2, random_state = 0)"
      ],
      "execution_count": null,
      "outputs": []
    },
    {
      "cell_type": "code",
      "metadata": {
        "id": "kytZ1SEczsus"
      },
      "source": [
        "from sklearn.neighbors import KNeighborsClassifier\n",
        "\n",
        "model = KNeighborsClassifier(n_neighbors=3)\n",
        "\n",
        "# Train the model using the training sets\n",
        "model.fit(xtrain,ytrain)\n",
        "\n",
        "#Predict Output\n",
        "y_pred= model.predict(xtest) # 0:Overcast, 2:Mild"
      ],
      "execution_count": null,
      "outputs": []
    },
    {
      "cell_type": "markdown",
      "metadata": {
        "id": "oY2U9vFo8v-4"
      },
      "source": [
        "***Accuracy Measures***"
      ]
    },
    {
      "cell_type": "code",
      "metadata": {
        "colab": {
          "base_uri": "https://localhost:8080/"
        },
        "id": "iYA0svM9x_-R",
        "outputId": "0ecfa7d7-5afc-4092-a4d6-87745ae965cf"
      },
      "source": [
        "print(\"Accuracy =\",accuracy_score(ytest,y_pred))\n",
        "print(\"Precision=\",precision_score(ytest,y_pred))\n",
        "print(\"f1_score=\",f1_score(ytest,y_pred))"
      ],
      "execution_count": null,
      "outputs": [
        {
          "output_type": "stream",
          "name": "stdout",
          "text": [
            "Accuracy = 0.6\n",
            "Precision= 0.5\n",
            "f1_score= 0.4444444444444445\n"
          ]
        }
      ]
    },
    {
      "cell_type": "code",
      "metadata": {
        "colab": {
          "base_uri": "https://localhost:8080/",
          "height": 386
        },
        "id": "q-41_gX3zJ3-",
        "outputId": "4b7928d2-4f6a-4094-af13-ba3b46fc0ca6"
      },
      "source": [
        "metrics.plot_roc_curve(model, xtest, ytest) "
      ],
      "execution_count": null,
      "outputs": [
        {
          "output_type": "stream",
          "name": "stderr",
          "text": [
            "/usr/local/lib/python3.7/dist-packages/sklearn/utils/deprecation.py:87: FutureWarning:\n",
            "\n",
            "Function plot_roc_curve is deprecated; Function `plot_roc_curve` is deprecated in 1.0 and will be removed in 1.2. Use one of the class methods: RocCurveDisplay.from_predictions or RocCurveDisplay.from_estimator.\n",
            "\n"
          ]
        },
        {
          "output_type": "execute_result",
          "data": {
            "text/plain": [
              "<sklearn.metrics._plot.roc_curve.RocCurveDisplay at 0x7f2f0b8ff590>"
            ]
          },
          "metadata": {},
          "execution_count": 39
        },
        {
          "output_type": "display_data",
          "data": {
            "image/png": "[encoded data removed]",
            "text/plain": [
              "<Figure size 432x288 with 1 Axes>"
            ]
          },
          "metadata": {
            "needs_background": "light"
          }
        }
      ]
    },
    {
      "cell_type": "markdown",
      "metadata": {
        "id": "yQDqM4n40uDi"
      },
      "source": [
        "# **Topoplot**"
      ]
    },
    {
      "cell_type": "code",
      "metadata": {
        "id": "E0PbPP210RzO"
      },
      "source": [
        "data=pd.read_csv(r'/content/Df_preprocessed 2.txt')"
      ],
      "execution_count": null,
      "outputs": []
    },
    {
      "cell_type": "code",
      "metadata": {
        "colab": {
          "base_uri": "https://localhost:8080/",
          "height": 226
        },
        "id": "gKSV2wii1DtA",
        "outputId": "dcf50b2e-6501-4efa-f669-9d8a9d6f1d2c"
      },
      "source": [
        "data = data.drop([\"SNO\"],axis =1 )\n",
        "data.head()"
      ],
      "execution_count": null,
      "outputs": [
        {
          "output_type": "execute_result",
          "data": {
            "text/html": [
              "<div>\n",
              "<style scoped>\n",
              "    .dataframe tbody tr th:only-of-type {\n",
              "        vertical-align: middle;\n",
              "    }\n",
              "\n",
              "    .dataframe tbody tr th {\n",
              "        vertical-align: top;\n",
              "    }\n",
              "\n",
              "    .dataframe thead th {\n",
              "        text-align: right;\n",
              "    }\n",
              "</style>\n",
              "<table border=\"1\" class=\"dataframe\">\n",
              "  <thead>\n",
              "    <tr style=\"text-align: right;\">\n",
              "      <th></th>\n",
              "      <th>Fz</th>\n",
              "      <th>Cz</th>\n",
              "      <th>Pz</th>\n",
              "      <th>C3</th>\n",
              "      <th>T7</th>\n",
              "      <th>C4</th>\n",
              "      <th>T8</th>\n",
              "      <th>Fp1</th>\n",
              "      <th>Fp2</th>\n",
              "      <th>F3</th>\n",
              "      <th>F4</th>\n",
              "      <th>F7</th>\n",
              "      <th>F8</th>\n",
              "      <th>P3</th>\n",
              "      <th>P4</th>\n",
              "      <th>P7</th>\n",
              "      <th>P8</th>\n",
              "      <th>O1</th>\n",
              "      <th>O2</th>\n",
              "      <th>label</th>\n",
              "    </tr>\n",
              "  </thead>\n",
              "  <tbody>\n",
              "    <tr>\n",
              "      <th>0</th>\n",
              "      <td>0.335038</td>\n",
              "      <td>0.350803</td>\n",
              "      <td>0.386383</td>\n",
              "      <td>0.382694</td>\n",
              "      <td>0.388903</td>\n",
              "      <td>0.384259</td>\n",
              "      <td>0.324582</td>\n",
              "      <td>0.371772</td>\n",
              "      <td>0.178842</td>\n",
              "      <td>0.235855</td>\n",
              "      <td>0.287295</td>\n",
              "      <td>0.297958</td>\n",
              "      <td>0.312892</td>\n",
              "      <td>0.258505</td>\n",
              "      <td>0.310902</td>\n",
              "      <td>0.313029</td>\n",
              "      <td>0.306131</td>\n",
              "      <td>0.313667</td>\n",
              "      <td>0.310917</td>\n",
              "      <td>0</td>\n",
              "    </tr>\n",
              "    <tr>\n",
              "      <th>1</th>\n",
              "      <td>0.387232</td>\n",
              "      <td>0.274562</td>\n",
              "      <td>0.494701</td>\n",
              "      <td>0.290063</td>\n",
              "      <td>0.506105</td>\n",
              "      <td>0.245683</td>\n",
              "      <td>0.474407</td>\n",
              "      <td>0.287532</td>\n",
              "      <td>0.462121</td>\n",
              "      <td>0.228246</td>\n",
              "      <td>0.428885</td>\n",
              "      <td>0.250042</td>\n",
              "      <td>0.417819</td>\n",
              "      <td>0.243313</td>\n",
              "      <td>0.394529</td>\n",
              "      <td>0.211636</td>\n",
              "      <td>0.484410</td>\n",
              "      <td>0.253041</td>\n",
              "      <td>0.430822</td>\n",
              "      <td>0</td>\n",
              "    </tr>\n",
              "    <tr>\n",
              "      <th>2</th>\n",
              "      <td>0.213529</td>\n",
              "      <td>0.226200</td>\n",
              "      <td>0.233447</td>\n",
              "      <td>0.239186</td>\n",
              "      <td>0.206145</td>\n",
              "      <td>0.269256</td>\n",
              "      <td>0.207142</td>\n",
              "      <td>0.280646</td>\n",
              "      <td>0.200542</td>\n",
              "      <td>0.270002</td>\n",
              "      <td>0.184769</td>\n",
              "      <td>0.167180</td>\n",
              "      <td>0.183914</td>\n",
              "      <td>0.194079</td>\n",
              "      <td>0.160464</td>\n",
              "      <td>0.183387</td>\n",
              "      <td>0.229746</td>\n",
              "      <td>0.257888</td>\n",
              "      <td>0.227645</td>\n",
              "      <td>0</td>\n",
              "    </tr>\n",
              "    <tr>\n",
              "      <th>3</th>\n",
              "      <td>0.292671</td>\n",
              "      <td>0.241536</td>\n",
              "      <td>0.493374</td>\n",
              "      <td>0.502810</td>\n",
              "      <td>0.516281</td>\n",
              "      <td>0.521020</td>\n",
              "      <td>0.417825</td>\n",
              "      <td>0.456831</td>\n",
              "      <td>0.282943</td>\n",
              "      <td>0.267064</td>\n",
              "      <td>0.245093</td>\n",
              "      <td>0.258088</td>\n",
              "      <td>0.337609</td>\n",
              "      <td>0.403353</td>\n",
              "      <td>0.297118</td>\n",
              "      <td>0.377677</td>\n",
              "      <td>0.437617</td>\n",
              "      <td>0.342920</td>\n",
              "      <td>0.378390</td>\n",
              "      <td>0</td>\n",
              "    </tr>\n",
              "    <tr>\n",
              "      <th>4</th>\n",
              "      <td>0.346029</td>\n",
              "      <td>0.354078</td>\n",
              "      <td>0.360827</td>\n",
              "      <td>0.449844</td>\n",
              "      <td>0.383315</td>\n",
              "      <td>0.354668</td>\n",
              "      <td>0.371950</td>\n",
              "      <td>0.437448</td>\n",
              "      <td>0.215580</td>\n",
              "      <td>0.384313</td>\n",
              "      <td>0.329467</td>\n",
              "      <td>0.401644</td>\n",
              "      <td>0.274604</td>\n",
              "      <td>0.388668</td>\n",
              "      <td>0.307233</td>\n",
              "      <td>0.399812</td>\n",
              "      <td>0.309470</td>\n",
              "      <td>0.376372</td>\n",
              "      <td>0.309475</td>\n",
              "      <td>0</td>\n",
              "    </tr>\n",
              "  </tbody>\n",
              "</table>\n",
              "</div>"
            ],
            "text/plain": [
              "         Fz        Cz        Pz        C3  ...        P8        O1        O2  label\n",
              "0  0.335038  0.350803  0.386383  0.382694  ...  0.306131  0.313667  0.310917      0\n",
              "1  0.387232  0.274562  0.494701  0.290063  ...  0.484410  0.253041  0.430822      0\n",
              "2  0.213529  0.226200  0.233447  0.239186  ...  0.229746  0.257888  0.227645      0\n",
              "3  0.292671  0.241536  0.493374  0.502810  ...  0.437617  0.342920  0.378390      0\n",
              "4  0.346029  0.354078  0.360827  0.449844  ...  0.309470  0.376372  0.309475      0\n",
              "\n",
              "[5 rows x 20 columns]"
            ]
          },
          "metadata": {},
          "execution_count": 42
        }
      ]
    },
    {
      "cell_type": "code",
      "metadata": {
        "id": "cPBX7jDv1Gnl"
      },
      "source": [
        "grouped_data = data.groupby(data.label)"
      ],
      "execution_count": null,
      "outputs": []
    },
    {
      "cell_type": "code",
      "metadata": {
        "id": "s8n9Gk4O1JKz"
      },
      "source": [
        "class_0 = grouped_data.get_group(0)\n",
        "class_1 = grouped_data.get_group(1)"
      ],
      "execution_count": null,
      "outputs": []
    },
    {
      "cell_type": "code",
      "metadata": {
        "id": "mktKBzO91Jwt"
      },
      "source": [
        "info = data.columns.values[:-1]\n",
        "class_0_min = class_0.min(axis=0)[:-1]\n",
        "class_1_min = class_1.min(axis=0)[:-1]"
      ],
      "execution_count": null,
      "outputs": []
    },
    {
      "cell_type": "code",
      "metadata": {
        "colab": {
          "base_uri": "https://localhost:8080/"
        },
        "id": "HOA8YFS41L1N",
        "outputId": "043bc971-86fe-4a00-d059-cf881bd42ec4"
      },
      "source": [
        "coords = get_elec_coords(system=\"1020\",dim=\"2d\").set_index(\"label\")\n",
        "coords['xy']=coords.apply(lambda x : (x.x,x.y),axis=1)\n",
        "coords['xy']"
      ],
      "execution_count": null,
      "outputs": [
        {
          "output_type": "execute_result",
          "data": {
            "text/plain": [
              "label\n",
              "C3                       (-0.324930901050304, 0.0)\n",
              "C4                        (0.324930901050304, 0.0)\n",
              "Cz                                      (0.0, 0.0)\n",
              "F3        (-0.2744172145845786, 0.346682606096832)\n",
              "F4         (0.2744172145845786, 0.346682606096832)\n",
              "F7      (-0.5878533231474408, 0.42704354469060357)\n",
              "F8       (0.5878533231474408, 0.42704354469060357)\n",
              "Fp1      (-0.2245225362872422, 0.6909854851031322)\n",
              "Fp2       (0.2245225362872422, 0.6909854851031322)\n",
              "Fpz                       (0.0, 0.726585179526356)\n",
              "Fz                        (0.0, 0.324930901050304)\n",
              "LPA                                    (-1.0, 0.0)\n",
              "NAS                                     (0.0, 1.0)\n",
              "O1      (-0.2245225362872422, -0.6909854851031322)\n",
              "O2       (0.2245225362872422, -0.6909854851031322)\n",
              "Oz                       (0.0, -0.726585179526356)\n",
              "P3       (-0.2744172145845786, -0.346682606096832)\n",
              "P4        (0.2744172145845786, -0.346682606096832)\n",
              "P7     (-0.5878533231474408, -0.42704354469060357)\n",
              "P8      (0.5878533231474408, -0.42704354469060357)\n",
              "Pz                       (0.0, -0.324930901050304)\n",
              "RPA                                     (1.0, 0.0)\n",
              "T7                       (-0.726585179526356, 0.0)\n",
              "T8                        (0.726585179526356, 0.0)\n",
              "Name: xy, dtype: object"
            ]
          },
          "metadata": {},
          "execution_count": 46
        }
      ]
    },
    {
      "cell_type": "code",
      "metadata": {
        "colab": {
          "base_uri": "https://localhost:8080/"
        },
        "id": "W7R8tKc-1N9U",
        "outputId": "e5c151f9-cde7-430c-971f-8a5214ea8c46"
      },
      "source": [
        "pos_arr = [coords['xy'][x] for x in info]\n",
        "print(len(pos_arr))"
      ],
      "execution_count": null,
      "outputs": [
        {
          "output_type": "stream",
          "name": "stdout",
          "text": [
            "19\n"
          ]
        }
      ]
    },
    {
      "cell_type": "code",
      "metadata": {
        "id": "dO0l68AP1p6k"
      },
      "source": [
        "pos_array=np.array(pos_arr)"
      ],
      "execution_count": null,
      "outputs": []
    },
    {
      "cell_type": "code",
      "metadata": {
        "colab": {
          "base_uri": "https://localhost:8080/",
          "height": 302
        },
        "id": "TB5JqfyN1sYw",
        "outputId": "3e39713f-bc20-4ab3-c232-14628700bcfa"
      },
      "source": [
        "mne.viz.plot_topomap(data=class_0_min.to_numpy(),pos=pos_array,cmap='gist_rainbow_r')"
      ],
      "execution_count": null,
      "outputs": [
        {
          "output_type": "display_data",
          "data": {
            "image/png": "[encoded data removed]",
            "text/plain": [
              "<Figure size 432x288 with 1 Axes>"
            ]
          },
          "metadata": {}
        },
        {
          "output_type": "execute_result",
          "data": {
            "text/plain": [
              "(<matplotlib.image.AxesImage at 0x7f2f0b86b510>,\n",
              " <matplotlib.contour.QuadContourSet at 0x7f2f0ba83a90>)"
            ]
          },
          "metadata": {},
          "execution_count": 49
        }
      ]
    },
    {
      "cell_type": "code",
      "metadata": {
        "colab": {
          "base_uri": "https://localhost:8080/",
          "height": 302
        },
        "id": "a4oQf2Qq1ur4",
        "outputId": "1eb62acb-1fc2-46a8-c176-f2634f9c0011"
      },
      "source": [
        "mne.viz.plot_topomap(data=class_1_min.to_numpy(),pos=pos_array,cmap='gist_rainbow_r')"
      ],
      "execution_count": null,
      "outputs": [
        {
          "output_type": "display_data",
          "data": {
            "image/png": "[encoded data removed]",
            "text/plain": [
              "<Figure size 432x288 with 1 Axes>"
            ]
          },
          "metadata": {}
        },
        {
          "output_type": "execute_result",
          "data": {
            "text/plain": [
              "(<matplotlib.image.AxesImage at 0x7f2f0ad44d10>,\n",
              " <matplotlib.contour.QuadContourSet at 0x7f2f0ad4f190>)"
            ]
          },
          "metadata": {},
          "execution_count": 50
        }
      ]
    },
    {
      "cell_type": "markdown",
      "metadata": {
        "id": "asgKO0ej7AKH"
      },
      "source": [
        "# **Conclusion**"
      ]
    },
    {
      "cell_type": "markdown",
      "metadata": {
        "id": "jorI1Lxj7FuA"
      },
      "source": [
        "1. The data is non-linearly seperable.\n",
        "2. By using PCA the dimensionality got reduced from 19 to 17(optimal).\n",
        "3. The highest accuracy that we obtained is 67.74% through SVM by choosing the best kernel i.e; gaussian kernel."
      ]
    }
  ]
}
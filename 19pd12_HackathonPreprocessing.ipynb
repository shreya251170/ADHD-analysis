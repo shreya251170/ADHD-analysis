{
  "nbformat": 4,
  "nbformat_minor": 0,
  "metadata": {
    "colab": {
      "name": "19pd12-HackathonPreprocessing.ipynb",
      "provenance": [],
      "collapsed_sections": [
        "GeMfX6fJ9La4",
        "nAXrmQ9w9Xz5",
        "6REfY1hX9khr"
      ]
    },
    "kernelspec": {
      "display_name": "Python 3",
      "name": "python3"
    },
    "language_info": {
      "name": "python"
    }
  },
  "cells": [
    {
      "cell_type": "markdown",
      "metadata": {
        "id": "GeMfX6fJ9La4"
      },
      "source": [
        "# **Importing Libraries**"
      ]
    },
    {
      "cell_type": "code",
      "metadata": {
        "id": "atGbp3UC8lTx"
      },
      "source": [
        "import numpy as np\n",
        "import pandas as pd\n",
        "import seaborn as sns\n",
        "import nltk\n",
        "import re\n",
        "import time\n",
        "from sklearn.feature_extraction.text import CountVectorizer, TfidfTransformer\n",
        "from sklearn.naive_bayes import MultinomialNB\n",
        "import string\n",
        "from nltk.stem import PorterStemmer\n",
        "from sklearn.model_selection import train_test_split\n",
        "import plotly.figure_factory as ff\n",
        "import plotly.express as px\n",
        "from wordcloud import WordCloud, STOPWORDS\n",
        "import matplotlib.pyplot as plt\n",
        "import seaborn as sns\n",
        "from sklearn.metrics import accuracy_score\n",
        "import scipy.io\n",
        "from sklearn.feature_selection import mutual_info_regression"
      ],
      "execution_count": null,
      "outputs": []
    },
    {
      "cell_type": "markdown",
      "metadata": {
        "id": "nAXrmQ9w9Xz5"
      },
      "source": [
        "# **Normalization function**"
      ]
    },
    {
      "cell_type": "code",
      "metadata": {
        "id": "t0uJ37aAa8Wi"
      },
      "source": [
        "def normalize(df):\n",
        "  for column in df.columns:\n",
        "    df[column] = (df[column] - df[column].mean()) / df[column].std()    \n",
        "  return df"
      ],
      "execution_count": null,
      "outputs": []
    },
    {
      "cell_type": "markdown",
      "metadata": {
        "id": "6REfY1hX9khr"
      },
      "source": [
        "# **Data Handling**"
      ]
    },
    {
      "cell_type": "code",
      "metadata": {
        "id": "mqSoY9auCtRx"
      },
      "source": [
        "def read(url):\n",
        "  mat = scipy.io.loadmat(url)\n",
        "  l=list(mat.values())\n",
        "  df = pd.DataFrame(l[-1], columns =['C1', 'C2', 'C3','C4','C5','C6','C7','C8','C9','C10','C11','C12','C13','C14','C15','C16','C17','C18','C19'])\n",
        "  return df"
      ],
      "execution_count": null,
      "outputs": []
    },
    {
      "cell_type": "markdown",
      "metadata": {
        "id": "Zaqn90lK9wvC"
      },
      "source": [
        "**Reading the files inside ADHD and Control ADHD Folders**"
      ]
    },
    {
      "cell_type": "code",
      "metadata": {
        "id": "wT2VWMs2UqXd"
      },
      "source": [
        "import os\n",
        "\n",
        "def get_filepaths(directory):\n",
        "\n",
        "    file_paths = []  # List which will store all of the full filepaths.\n",
        "\n",
        "    # Walk the tree.\n",
        "    for root, directories, files in os.walk(directory):\n",
        "        for filename in files:\n",
        "            # Join the two strings in order to form the full filepath.\n",
        "            filepath = os.path.join(root, filename)\n",
        "            file_paths.append(filepath)  # Add it to the list.\n",
        "\n",
        "    return file_paths\n",
        "file_paths1 = get_filepaths(\"/content/drive/MyDrive/Colab Notebooks/ADHD_part1\")\n",
        "file_paths2 = get_filepaths(\"/content/drive/MyDrive/Colab Notebooks/ADHD_part2\")\n",
        "file_paths3 = get_filepaths(\"/content/drive/MyDrive/Colab Notebooks/Control_part1\")\n",
        "file_paths4 = get_filepaths(\"/content/drive/MyDrive/Colab Notebooks/Control_part2\")"
      ],
      "execution_count": null,
      "outputs": []
    },
    {
      "cell_type": "markdown",
      "metadata": {
        "id": "Iid4j0fs99vO"
      },
      "source": [
        "**Finding the minimum number of rows**"
      ]
    },
    {
      "cell_type": "code",
      "metadata": {
        "id": "RYBSv5fWWHmI"
      },
      "source": [
        "AP1=[]\n",
        "for i in file_paths1:\n",
        "  df=read(i)\n",
        "  r,c=df.shape\n",
        "  AP1.append(r)"
      ],
      "execution_count": null,
      "outputs": []
    },
    {
      "cell_type": "code",
      "metadata": {
        "colab": {
          "base_uri": "https://localhost:8080/"
        },
        "id": "dTKji4LxaAhU",
        "outputId": "1cdfef1b-e4af-4365-b684-e712e82e0bea"
      },
      "source": [
        "print(len(AP1))\n",
        "for i in file_paths2:\n",
        "  df=read(i)\n",
        "  r,c=df.shape\n",
        "  AP1.append(r)"
      ],
      "execution_count": null,
      "outputs": [
        {
          "output_type": "stream",
          "name": "stdout",
          "text": [
            "30\n"
          ]
        }
      ]
    },
    {
      "cell_type": "code",
      "metadata": {
        "colab": {
          "base_uri": "https://localhost:8080/"
        },
        "id": "Vm3frJCsaMZ7",
        "outputId": "952e34c3-4498-4aca-90a2-f9a01b323793"
      },
      "source": [
        "print(len(AP1))\n",
        "for i in file_paths3:\n",
        "  df=read(i)\n",
        "  r,c=df.shape\n",
        "  AP1.append(r)"
      ],
      "execution_count": null,
      "outputs": [
        {
          "output_type": "stream",
          "name": "stdout",
          "text": [
            "61\n"
          ]
        }
      ]
    },
    {
      "cell_type": "code",
      "metadata": {
        "colab": {
          "base_uri": "https://localhost:8080/"
        },
        "id": "Dc1eszuHaN_C",
        "outputId": "3c8c6303-934f-49d1-9cda-69b62abe6e8a"
      },
      "source": [
        "print(len(AP1))\n",
        "for i in file_paths4:\n",
        "  df=read(i)\n",
        "  r,c=df.shape\n",
        "  AP1.append(r)"
      ],
      "execution_count": null,
      "outputs": [
        {
          "output_type": "stream",
          "name": "stdout",
          "text": [
            "91\n"
          ]
        }
      ]
    },
    {
      "cell_type": "code",
      "metadata": {
        "colab": {
          "base_uri": "https://localhost:8080/"
        },
        "id": "94DuJHFBXA6Z",
        "outputId": "ef62ccd4-fabf-4c15-eeaa-7393fa04a7fa"
      },
      "source": [
        "len(AP1)"
      ],
      "execution_count": null,
      "outputs": [
        {
          "output_type": "execute_result",
          "data": {
            "text/plain": [
              "121"
            ]
          },
          "metadata": {},
          "execution_count": 9
        }
      ]
    },
    {
      "cell_type": "code",
      "metadata": {
        "id": "nFv_LU1nYUlD"
      },
      "source": [
        "AP1.sort()"
      ],
      "execution_count": null,
      "outputs": []
    },
    {
      "cell_type": "code",
      "metadata": {
        "colab": {
          "base_uri": "https://localhost:8080/"
        },
        "id": "vVt_9_FYb-Ln",
        "outputId": "ff93aa1b-a799-4cf8-d568-9cc8f945cf38"
      },
      "source": [
        "print(\"Minimum number of rows is\",AP1[0])"
      ],
      "execution_count": null,
      "outputs": [
        {
          "output_type": "stream",
          "name": "stdout",
          "text": [
            "Minimum number of rows is 7983\n"
          ]
        }
      ]
    },
    {
      "cell_type": "markdown",
      "metadata": {
        "id": "9VKp3O_n-F58"
      },
      "source": [
        "**Reducing the dimension of each subject's matrix to min_rows x 19**"
      ]
    },
    {
      "cell_type": "code",
      "metadata": {
        "id": "Be2aC8m_cQrA"
      },
      "source": [
        "def split(url):\n",
        "  mat = scipy.io.loadmat(url)\n",
        "  l=list(mat.values())\n",
        "  df = pd.DataFrame(l[-1], columns =['C1', 'C2', 'C3','C4','C5','C6','C7','C8','C9','C10','C11','C12','C13','C14','C15','C16','C17','C18','C19'])\n",
        "  return df[0:AP1[0]]"
      ],
      "execution_count": null,
      "outputs": []
    },
    {
      "cell_type": "code",
      "metadata": {
        "id": "M5cdFWWsepdG"
      },
      "source": [
        "AP1_df=[]\n",
        "for i in file_paths1:\n",
        "  df=split(i)\n",
        "  #r,c=df.shape\n",
        "  df=normalize(df)\n",
        "  AP1_df.append(df)"
      ],
      "execution_count": null,
      "outputs": []
    },
    {
      "cell_type": "code",
      "metadata": {
        "id": "bacMWn4s3p6P"
      },
      "source": [
        "AP2_df=[]\n",
        "for i in file_paths2:\n",
        "  df=split(i)\n",
        "  #r,c=df.shape\n",
        "  df=normalize(df)\n",
        "  AP2_df.append(df)"
      ],
      "execution_count": null,
      "outputs": []
    },
    {
      "cell_type": "code",
      "metadata": {
        "id": "Dkm6MUe1yFnu"
      },
      "source": [
        "AP3_df=[]\n",
        "for i in file_paths3:\n",
        "  df=split(i)\n",
        "  #r,c=df.shape\n",
        "  df=normalize(df)\n",
        "  AP3_df.append(df)"
      ],
      "execution_count": null,
      "outputs": []
    },
    {
      "cell_type": "code",
      "metadata": {
        "id": "VlxqIUobyN4L"
      },
      "source": [
        "AP4_df=[]\n",
        "for i in file_paths4:\n",
        "  df=split(i)\n",
        "  #r,c=df.shape\n",
        "  df=normalize(df)\n",
        "  AP4_df.append(df)"
      ],
      "execution_count": null,
      "outputs": []
    },
    {
      "cell_type": "code",
      "metadata": {
        "id": "wDGge6jO4pRQ"
      },
      "source": [
        "AP1_MI=[]\n",
        "AP1_MMI=[]\n",
        "for i in AP1_df:\n",
        "  arr=i.to_numpy()\n",
        "  mi = np.array([mutual_info_regression(arr,arr[:, i]) for i in range(19)])\n",
        "  d_vec = np.mean(mi, axis=0)\n",
        "  AP1_MI.append(mi)\n",
        "  AP1_MMI.append(d_vec)"
      ],
      "execution_count": null,
      "outputs": []
    },
    {
      "cell_type": "markdown",
      "metadata": {
        "id": "Iuj_5Y2i-gVv"
      },
      "source": [
        "**Finding average mutual information after finding mutual information between every column to obtain a 19 x 1 matrix for each subject**"
      ]
    },
    {
      "cell_type": "code",
      "metadata": {
        "id": "BBaXymJGx5zE"
      },
      "source": [
        "AP2_MI=[]\n",
        "AP2_MMI=[]\n",
        "for i in AP2_df:\n",
        "  arr=i.to_numpy()\n",
        "  mi = np.array([mutual_info_regression(arr,arr[:, i]) for i in range(19)])\n",
        "  d_vec = np.mean(mi, axis=0)\n",
        "  AP2_MI.append(mi)\n",
        "  AP2_MMI.append(d_vec)"
      ],
      "execution_count": null,
      "outputs": []
    },
    {
      "cell_type": "code",
      "metadata": {
        "id": "B2IjAVDvyAeA"
      },
      "source": [
        "AP3_MI=[]\n",
        "AP3_MMI=[]\n",
        "for i in AP3_df:\n",
        "  arr=i.to_numpy()\n",
        "  mi = np.array([mutual_info_regression(arr,arr[:, i]) for i in range(19)])\n",
        "  d_vec = np.mean(mi, axis=0)\n",
        "  AP3_MI.append(mi)\n",
        "  AP3_MMI.append(d_vec)"
      ],
      "execution_count": null,
      "outputs": []
    },
    {
      "cell_type": "code",
      "metadata": {
        "id": "cAaxhbF3yVod"
      },
      "source": [
        "AP4_MI=[]\n",
        "AP4_MMI=[]\n",
        "for i in AP4_df:\n",
        "  arr=i.to_numpy()\n",
        "  mi = np.array([mutual_info_regression(arr,arr[:, i]) for i in range(19)])\n",
        "  d_vec = np.mean(mi, axis=0)\n",
        "  AP4_MI.append(mi)\n",
        "  AP4_MMI.append(d_vec)"
      ],
      "execution_count": null,
      "outputs": []
    },
    {
      "cell_type": "code",
      "metadata": {
        "id": "evbwUz3D7oAA",
        "colab": {
          "base_uri": "https://localhost:8080/"
        },
        "outputId": "371f900c-1fd3-4591-8ac4-25c6e3897405"
      },
      "source": [
        "AP1_MMI[0].shape"
      ],
      "execution_count": null,
      "outputs": [
        {
          "output_type": "execute_result",
          "data": {
            "text/plain": [
              "(19,)"
            ]
          },
          "metadata": {},
          "execution_count": 21
        }
      ]
    },
    {
      "cell_type": "code",
      "metadata": {
        "id": "5lQw3TPc9vlf"
      },
      "source": [
        "AP1_MM=[l.tolist() for l in AP1_MMI]"
      ],
      "execution_count": null,
      "outputs": []
    },
    {
      "cell_type": "code",
      "metadata": {
        "id": "VltXBPx4_A_f"
      },
      "source": [
        "AP2_MM=[l.tolist() for l in AP2_MMI]\n",
        "AP3_MM=[l.tolist() for l in AP3_MMI]\n",
        "AP4_MM=[l.tolist() for l in AP4_MMI]"
      ],
      "execution_count": null,
      "outputs": []
    },
    {
      "cell_type": "code",
      "metadata": {
        "id": "xy-LJTbl9Wz4"
      },
      "source": [
        "df_prepro=pd.DataFrame(data=AP1_MM,columns =['C1', 'C2', 'C3','C4','C5','C6','C7','C8','C9','C10','C11','C12','C13','C14','C15','C16','C17','C18','C19'])"
      ],
      "execution_count": null,
      "outputs": []
    },
    {
      "cell_type": "code",
      "metadata": {
        "id": "ruyxOgQeB609"
      },
      "source": [
        "df_prepro2=pd.DataFrame(data=AP2_MM,columns =['C1', 'C2', 'C3','C4','C5','C6','C7','C8','C9','C10','C11','C12','C13','C14','C15','C16','C17','C18','C19'])"
      ],
      "execution_count": null,
      "outputs": []
    },
    {
      "cell_type": "code",
      "metadata": {
        "id": "JGvioGg2CAmq"
      },
      "source": [
        "df_prepro3=pd.DataFrame(data=AP3_MM,columns =['C1', 'C2', 'C3','C4','C5','C6','C7','C8','C9','C10','C11','C12','C13','C14','C15','C16','C17','C18','C19'])"
      ],
      "execution_count": null,
      "outputs": []
    },
    {
      "cell_type": "code",
      "metadata": {
        "id": "BE8A91RwCD0-"
      },
      "source": [
        "df_prepro4=pd.DataFrame(data=AP4_MM,columns =['C1', 'C2', 'C3','C4','C5','C6','C7','C8','C9','C10','C11','C12','C13','C14','C15','C16','C17','C18','C19'])"
      ],
      "execution_count": null,
      "outputs": []
    },
    {
      "cell_type": "markdown",
      "metadata": {
        "id": "TWGmXZ9b_Qdh"
      },
      "source": [
        "**Getting the final preprocessed csv file**"
      ]
    },
    {
      "cell_type": "code",
      "metadata": {
        "id": "irW75XDi695o"
      },
      "source": [
        "df_finalcsv=pd.concat([df_prepro, df_prepro2, df_prepro3,df_prepro4], ignore_index=True)"
      ],
      "execution_count": null,
      "outputs": []
    },
    {
      "cell_type": "code",
      "metadata": {
        "id": "lDEqi7wPCuee"
      },
      "source": [
        "label=[]\n",
        "for i in range(0,121):\n",
        "  if(i<61):\n",
        "    label.append(0)\n",
        "  else:\n",
        "    label.append(1)"
      ],
      "execution_count": null,
      "outputs": []
    },
    {
      "cell_type": "code",
      "metadata": {
        "id": "OHDY1yT2DP0u"
      },
      "source": [
        "df_finalcsv['label']=label"
      ],
      "execution_count": null,
      "outputs": []
    },
    {
      "cell_type": "code",
      "metadata": {
        "id": "wXxUZyME9R1f",
        "colab": {
          "base_uri": "https://localhost:8080/"
        },
        "outputId": "91280ea3-ba71-4613-b02a-921afc59b128"
      },
      "source": [
        "df_finalcsv"
      ],
      "execution_count": null,
      "outputs": [
        {
          "output_type": "execute_result",
          "data": {
            "text/html": [
              "<div>\n",
              "<style scoped>\n",
              "    .dataframe tbody tr th:only-of-type {\n",
              "        vertical-align: middle;\n",
              "    }\n",
              "\n",
              "    .dataframe tbody tr th {\n",
              "        vertical-align: top;\n",
              "    }\n",
              "\n",
              "    .dataframe thead th {\n",
              "        text-align: right;\n",
              "    }\n",
              "</style>\n",
              "<table border=\"1\" class=\"dataframe\">\n",
              "  <thead>\n",
              "    <tr style=\"text-align: right;\">\n",
              "      <th></th>\n",
              "      <th>C1</th>\n",
              "      <th>C2</th>\n",
              "      <th>C3</th>\n",
              "      <th>C4</th>\n",
              "      <th>C5</th>\n",
              "      <th>C6</th>\n",
              "      <th>C7</th>\n",
              "      <th>C8</th>\n",
              "      <th>C9</th>\n",
              "      <th>C10</th>\n",
              "      <th>C11</th>\n",
              "      <th>C12</th>\n",
              "      <th>C13</th>\n",
              "      <th>C14</th>\n",
              "      <th>C15</th>\n",
              "      <th>C16</th>\n",
              "      <th>C17</th>\n",
              "      <th>C18</th>\n",
              "      <th>C19</th>\n",
              "      <th>label</th>\n",
              "    </tr>\n",
              "  </thead>\n",
              "  <tbody>\n",
              "    <tr>\n",
              "      <th>0</th>\n",
              "      <td>0.335038</td>\n",
              "      <td>0.350803</td>\n",
              "      <td>0.386383</td>\n",
              "      <td>0.382694</td>\n",
              "      <td>0.388903</td>\n",
              "      <td>0.384259</td>\n",
              "      <td>0.324582</td>\n",
              "      <td>0.371772</td>\n",
              "      <td>0.178842</td>\n",
              "      <td>0.235855</td>\n",
              "      <td>0.287295</td>\n",
              "      <td>0.297958</td>\n",
              "      <td>0.312892</td>\n",
              "      <td>0.258505</td>\n",
              "      <td>0.310902</td>\n",
              "      <td>0.313029</td>\n",
              "      <td>0.306131</td>\n",
              "      <td>0.313667</td>\n",
              "      <td>0.310917</td>\n",
              "      <td>0</td>\n",
              "    </tr>\n",
              "    <tr>\n",
              "      <th>1</th>\n",
              "      <td>0.387232</td>\n",
              "      <td>0.274562</td>\n",
              "      <td>0.494701</td>\n",
              "      <td>0.290063</td>\n",
              "      <td>0.506105</td>\n",
              "      <td>0.245683</td>\n",
              "      <td>0.474407</td>\n",
              "      <td>0.287532</td>\n",
              "      <td>0.462121</td>\n",
              "      <td>0.228246</td>\n",
              "      <td>0.428885</td>\n",
              "      <td>0.250042</td>\n",
              "      <td>0.417819</td>\n",
              "      <td>0.243313</td>\n",
              "      <td>0.394529</td>\n",
              "      <td>0.211636</td>\n",
              "      <td>0.484410</td>\n",
              "      <td>0.253041</td>\n",
              "      <td>0.430822</td>\n",
              "      <td>0</td>\n",
              "    </tr>\n",
              "    <tr>\n",
              "      <th>2</th>\n",
              "      <td>0.213529</td>\n",
              "      <td>0.226200</td>\n",
              "      <td>0.233447</td>\n",
              "      <td>0.239186</td>\n",
              "      <td>0.206145</td>\n",
              "      <td>0.269256</td>\n",
              "      <td>0.207142</td>\n",
              "      <td>0.280646</td>\n",
              "      <td>0.200542</td>\n",
              "      <td>0.270002</td>\n",
              "      <td>0.184769</td>\n",
              "      <td>0.167180</td>\n",
              "      <td>0.183914</td>\n",
              "      <td>0.194079</td>\n",
              "      <td>0.160464</td>\n",
              "      <td>0.183387</td>\n",
              "      <td>0.229746</td>\n",
              "      <td>0.257888</td>\n",
              "      <td>0.227645</td>\n",
              "      <td>0</td>\n",
              "    </tr>\n",
              "    <tr>\n",
              "      <th>3</th>\n",
              "      <td>0.292671</td>\n",
              "      <td>0.241536</td>\n",
              "      <td>0.493374</td>\n",
              "      <td>0.502810</td>\n",
              "      <td>0.516281</td>\n",
              "      <td>0.521020</td>\n",
              "      <td>0.417825</td>\n",
              "      <td>0.456831</td>\n",
              "      <td>0.282943</td>\n",
              "      <td>0.267064</td>\n",
              "      <td>0.245093</td>\n",
              "      <td>0.258088</td>\n",
              "      <td>0.337609</td>\n",
              "      <td>0.403353</td>\n",
              "      <td>0.297118</td>\n",
              "      <td>0.377677</td>\n",
              "      <td>0.437617</td>\n",
              "      <td>0.342920</td>\n",
              "      <td>0.378390</td>\n",
              "      <td>0</td>\n",
              "    </tr>\n",
              "    <tr>\n",
              "      <th>4</th>\n",
              "      <td>0.346029</td>\n",
              "      <td>0.354078</td>\n",
              "      <td>0.360827</td>\n",
              "      <td>0.449844</td>\n",
              "      <td>0.383315</td>\n",
              "      <td>0.354668</td>\n",
              "      <td>0.371950</td>\n",
              "      <td>0.437448</td>\n",
              "      <td>0.215580</td>\n",
              "      <td>0.384313</td>\n",
              "      <td>0.329467</td>\n",
              "      <td>0.401644</td>\n",
              "      <td>0.274604</td>\n",
              "      <td>0.388668</td>\n",
              "      <td>0.307233</td>\n",
              "      <td>0.399812</td>\n",
              "      <td>0.309470</td>\n",
              "      <td>0.376372</td>\n",
              "      <td>0.309475</td>\n",
              "      <td>0</td>\n",
              "    </tr>\n",
              "    <tr>\n",
              "      <th>...</th>\n",
              "      <td>...</td>\n",
              "      <td>...</td>\n",
              "      <td>...</td>\n",
              "      <td>...</td>\n",
              "      <td>...</td>\n",
              "      <td>...</td>\n",
              "      <td>...</td>\n",
              "      <td>...</td>\n",
              "      <td>...</td>\n",
              "      <td>...</td>\n",
              "      <td>...</td>\n",
              "      <td>...</td>\n",
              "      <td>...</td>\n",
              "      <td>...</td>\n",
              "      <td>...</td>\n",
              "      <td>...</td>\n",
              "      <td>...</td>\n",
              "      <td>...</td>\n",
              "      <td>...</td>\n",
              "      <td>...</td>\n",
              "    </tr>\n",
              "    <tr>\n",
              "      <th>116</th>\n",
              "      <td>0.309895</td>\n",
              "      <td>0.312626</td>\n",
              "      <td>0.230568</td>\n",
              "      <td>0.349177</td>\n",
              "      <td>0.328292</td>\n",
              "      <td>0.318996</td>\n",
              "      <td>0.358948</td>\n",
              "      <td>0.341061</td>\n",
              "      <td>0.288601</td>\n",
              "      <td>0.306197</td>\n",
              "      <td>0.287438</td>\n",
              "      <td>0.318433</td>\n",
              "      <td>0.249575</td>\n",
              "      <td>0.299025</td>\n",
              "      <td>0.247730</td>\n",
              "      <td>0.228662</td>\n",
              "      <td>0.281399</td>\n",
              "      <td>0.241214</td>\n",
              "      <td>0.252185</td>\n",
              "      <td>1</td>\n",
              "    </tr>\n",
              "    <tr>\n",
              "      <th>117</th>\n",
              "      <td>0.318146</td>\n",
              "      <td>0.284052</td>\n",
              "      <td>0.255549</td>\n",
              "      <td>0.289795</td>\n",
              "      <td>0.207993</td>\n",
              "      <td>0.242576</td>\n",
              "      <td>0.213281</td>\n",
              "      <td>0.226987</td>\n",
              "      <td>0.175099</td>\n",
              "      <td>0.215026</td>\n",
              "      <td>0.283096</td>\n",
              "      <td>0.203045</td>\n",
              "      <td>0.249787</td>\n",
              "      <td>0.182652</td>\n",
              "      <td>0.159298</td>\n",
              "      <td>0.144923</td>\n",
              "      <td>0.278210</td>\n",
              "      <td>0.248315</td>\n",
              "      <td>0.199927</td>\n",
              "      <td>1</td>\n",
              "    </tr>\n",
              "    <tr>\n",
              "      <th>118</th>\n",
              "      <td>0.301197</td>\n",
              "      <td>0.270250</td>\n",
              "      <td>0.310468</td>\n",
              "      <td>0.298029</td>\n",
              "      <td>0.292355</td>\n",
              "      <td>0.261588</td>\n",
              "      <td>0.261356</td>\n",
              "      <td>0.251037</td>\n",
              "      <td>0.188390</td>\n",
              "      <td>0.209553</td>\n",
              "      <td>0.248784</td>\n",
              "      <td>0.162316</td>\n",
              "      <td>0.250101</td>\n",
              "      <td>0.221374</td>\n",
              "      <td>0.189878</td>\n",
              "      <td>0.209652</td>\n",
              "      <td>0.288664</td>\n",
              "      <td>0.244984</td>\n",
              "      <td>0.210675</td>\n",
              "      <td>1</td>\n",
              "    </tr>\n",
              "    <tr>\n",
              "      <th>119</th>\n",
              "      <td>0.413807</td>\n",
              "      <td>0.306365</td>\n",
              "      <td>0.372274</td>\n",
              "      <td>0.266940</td>\n",
              "      <td>0.384445</td>\n",
              "      <td>0.296911</td>\n",
              "      <td>0.406224</td>\n",
              "      <td>0.248007</td>\n",
              "      <td>0.261596</td>\n",
              "      <td>0.226670</td>\n",
              "      <td>0.382783</td>\n",
              "      <td>0.227374</td>\n",
              "      <td>0.411393</td>\n",
              "      <td>0.270862</td>\n",
              "      <td>0.400743</td>\n",
              "      <td>0.261594</td>\n",
              "      <td>0.388536</td>\n",
              "      <td>0.271187</td>\n",
              "      <td>0.364075</td>\n",
              "      <td>1</td>\n",
              "    </tr>\n",
              "    <tr>\n",
              "      <th>120</th>\n",
              "      <td>0.504606</td>\n",
              "      <td>0.317867</td>\n",
              "      <td>0.540027</td>\n",
              "      <td>0.314266</td>\n",
              "      <td>0.519227</td>\n",
              "      <td>0.306461</td>\n",
              "      <td>0.507978</td>\n",
              "      <td>0.259257</td>\n",
              "      <td>0.395867</td>\n",
              "      <td>0.213556</td>\n",
              "      <td>0.484738</td>\n",
              "      <td>0.313361</td>\n",
              "      <td>0.345081</td>\n",
              "      <td>0.329135</td>\n",
              "      <td>0.373015</td>\n",
              "      <td>0.237105</td>\n",
              "      <td>0.520083</td>\n",
              "      <td>0.225885</td>\n",
              "      <td>0.299112</td>\n",
              "      <td>1</td>\n",
              "    </tr>\n",
              "  </tbody>\n",
              "</table>\n",
              "<p>121 rows × 20 columns</p>\n",
              "</div>"
            ],
            "text/plain": [
              "           C1        C2        C3  ...       C18       C19  label\n",
              "0    0.335038  0.350803  0.386383  ...  0.313667  0.310917      0\n",
              "1    0.387232  0.274562  0.494701  ...  0.253041  0.430822      0\n",
              "2    0.213529  0.226200  0.233447  ...  0.257888  0.227645      0\n",
              "3    0.292671  0.241536  0.493374  ...  0.342920  0.378390      0\n",
              "4    0.346029  0.354078  0.360827  ...  0.376372  0.309475      0\n",
              "..        ...       ...       ...  ...       ...       ...    ...\n",
              "116  0.309895  0.312626  0.230568  ...  0.241214  0.252185      1\n",
              "117  0.318146  0.284052  0.255549  ...  0.248315  0.199927      1\n",
              "118  0.301197  0.270250  0.310468  ...  0.244984  0.210675      1\n",
              "119  0.413807  0.306365  0.372274  ...  0.271187  0.364075      1\n",
              "120  0.504606  0.317867  0.540027  ...  0.225885  0.299112      1\n",
              "\n",
              "[121 rows x 20 columns]"
            ]
          },
          "metadata": {},
          "execution_count": 31
        }
      ]
    },
    {
      "cell_type": "code",
      "metadata": {
        "id": "XM-LWpFODZ6I"
      },
      "source": [
        "df_finalcsv.to_csv('Df_preprocessed.csv')"
      ],
      "execution_count": null,
      "outputs": []
    }
  ]
}